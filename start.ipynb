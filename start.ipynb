{
  "cells": [
    {
      "cell_type": "markdown",
      "metadata": {},
      "source": [
        "# Implementation of CNN\n",
        "Implement CNN to classify digits in MNIST to 99.5% accuracy or more by adding only a single convolutional layer and a single MaxPooling 2D layer to the model."
      ]
    },
    {
      "cell_type": "code",
      "execution_count": 3,
      "metadata": {
        "deletable": false,
        "editable": false,
        "id": "ZpztRwBouwYp"
      },
      "outputs": [],
      "source": [
        "import numpy as np\n",
        "import tensorflow as tf"
      ]
    },
    {
      "cell_type": "markdown",
      "metadata": {
        "id": "2nXzJt54RlAw"
      },
      "source": [
        "## Load and inspect the data\n",
        "\n",
        "Begin by loading the data mnist.npz"
      ]
    },
    {
      "cell_type": "code",
      "execution_count": null,
      "metadata": {
        "deletable": false,
        "editable": false,
        "id": "wAl2dJ3DRlAw"
      },
      "outputs": [],
      "source": [
        "# Provide path to get the full path\n",
        "data_path =\n",
        "\n",
        "# Load data (discard test set)\n",
        "(training_images, training_labels), _ = tf.keras.datasets.mnist.load_data(path=data_path)\n",
        "\n",
        "print(f\"training_images is of type {type(training_images)}.\\ntraining_labels is of type {type(training_labels)}\\n\")\n",
        "\n",
        "# Inspect shape of the data\n",
        "data_shape = training_images.shape\n",
        "\n",
        "print(f\"There are {data_shape[0]} examples with shape ({data_shape[1]}, {data_shape[2]})\")"
      ]
    },
    {
      "cell_type": "markdown",
      "metadata": {
        "id": "x9BoBkTXRlAw"
      },
      "source": [
        "## Pre-processing the data\n",
        "\n",
        "One important step when dealing with image data is to preprocess the data. During the preprocess step you can apply transformations to the dataset that will be fed into your convolutional neural network."
      ]
    },
    {
      "cell_type": "markdown",
      "metadata": {
        "id": "3OkFczaJRlAx"
      },
      "source": [
        "\n",
        "## Part 1: reshape_and_normalize\n",
        "\n",
        "You will apply two transformations to the data:\n"
      ]
    },
    {
      "cell_type": "code",
      "execution_count": null,
      "metadata": {
        "deletable": false,
        "id": "_cM8RESaRlAx"
      },
      "outputs": [],
      "source": [
        "# reshape_and_normalize\n",
        "\n",
        "def reshape_and_normalize(images):\n",
        "    \"\"\"Reshapes the array of images and normalizes pixel values.\n",
        "\n",
        "    Args:\n",
        "        images (numpy.ndarray): The images encoded as numpy arrays\n",
        "\n",
        "    Returns:\n",
        "        numpy.ndarray: The reshaped and normalized images.\n",
        "    \"\"\"\n",
        "\n",
        "    ### START CODE HERE ###\n",
        "\n",
        "    # Reshape the images to add an extra dimension (at the right-most side of the array)\n",
        "    images = None\n",
        "\n",
        "    # Normalize pixel values\n",
        "    images = None\n",
        "\n",
        "    ### END CODE HERE ###\n",
        "\n",
        "    return images"
      ]
    },
    {
      "cell_type": "markdown",
      "metadata": {
        "id": "T6OSWXHjRlAx"
      },
      "source": [
        "Test your function with the next cell:"
      ]
    },
    {
      "cell_type": "code",
      "execution_count": null,
      "metadata": {
        "deletable": false,
        "editable": false,
        "id": "JMV2Dhg5RlAy"
      },
      "outputs": [],
      "source": [
        "# Reload the images in case you run this cell multiple times\n",
        "(training_images, _), _ = tf.keras.datasets.mnist.load_data(path=data_path)\n",
        "\n",
        "# Apply your function\n",
        "training_images = reshape_and_normalize(training_images)\n",
        "print('Name:            RegisterNumber:          \\n')\n",
        "print(f\"Maximum pixel value after normalization: {np.max(training_images)}\\n\")\n",
        "print(f\"Shape of training set after reshaping: {training_images.shape}\\n\")\n",
        "print(f\"Shape of one image after reshaping: {training_images[0].shape}\")"
      ]
    },
    {
      "cell_type": "markdown",
      "metadata": {
        "id": "G3yWN6wuRlAy"
      },
      "source": [
        "## Part 2: EarlyStoppingCallback\n",
        "\n",
        "create your own custom callback. For this complete the `EarlyStoppingCallback` class and the `on_epoch_end` method in the cell below."
      ]
    },
    {
      "cell_type": "code",
      "execution_count": null,
      "metadata": {
        "deletable": false,
        "id": "tI3YGuCRRlAy"
      },
      "outputs": [],
      "source": [
        "# EarlyStoppingCallback\n",
        "\n",
        "### START CODE HERE ###\n",
        "\n",
        "# Remember to inherit from the correct class\n",
        "class EarlyStoppingCallback():\n",
        "\n",
        "    # Define the correct function signature for on_epoch_end method\n",
        "    def None():\n",
        "\n",
        "        # Check if the accuracy is greater or equal to 0.995\n",
        "        if None >= None:\n",
        "\n",
        "            # Stop training once the above condition is met\n",
        "            None = None\n",
        "\n",
        "            print(\"\\nReached 99.5% accuracy so cancelling training!\\n\")\n",
        "            print('Name:            Register Number:         \\n')\n",
        "### END CODE HERE ###"
      ]
    },
    {
      "cell_type": "markdown",
      "metadata": {
        "id": "__m7bbRXRlAz"
      },
      "source": [
        "## Part 3: convolutional_model\n",
        "\n",
        "Complete the `convolutional_model` function below. This function should return your convolutional neural network.\n",
        "\n",
        "**Your model should achieve an accuracy of 99.5% or more before 10 epochs"
      ]
    },
    {
      "cell_type": "code",
      "execution_count": null,
      "metadata": {
        "deletable": false,
        "id": "jgWf4I45RlAz"
      },
      "outputs": [],
      "source": [
        "# convolutional_model\n",
        "\n",
        "def convolutional_model():\n",
        "    \"\"\"Returns the compiled (but untrained) convolutional model.\n",
        "\n",
        "    Returns:\n",
        "        tf.keras.Model: The model which should implement convolutions.\n",
        "    \"\"\"\n",
        "\n",
        "    ## START CODE HERE ###\n",
        "\n",
        "    # Define the model\n",
        "    model = tf.keras.models.Sequential([\n",
        "\t\tNone\n",
        "    ])\n",
        "\n",
        "    ### END CODE HERE ###\n",
        "\n",
        "    # Compile the model\n",
        "    model.compile(\n",
        "\t\toptimizer='adam',\n",
        "\t\tloss='sparse_categorical_crossentropy',\n",
        "\t\tmetrics=['accuracy']\n",
        "\t)\n",
        "\n",
        "    return model"
      ]
    },
    {
      "cell_type": "code",
      "execution_count": null,
      "metadata": {
        "deletable": false,
        "editable": false,
        "id": "bLBElglURlAz"
      },
      "outputs": [],
      "source": [
        "# Define your compiled (but untrained) model\n",
        "model = convolutional_model()"
      ]
    },
    {
      "cell_type": "code",
      "execution_count": null,
      "metadata": {
        "deletable": false,
        "editable": false,
        "id": "HOXi_gZyRlAz"
      },
      "outputs": [],
      "source": [
        "# Train your model (this can take up to 5 minutes)\n",
        "training_history = model.fit(training_images, training_labels, epochs=10, callbacks=[EarlyStoppingCallback()])"
      ]
    }
  ],
  "metadata": {
    "colab": {
      "provenance": []
    },
    "grader_version": "1",
    "kernelspec": {
      "display_name": "Python 3",
      "language": "python",
      "name": "python3"
    },
    "language_info": {
      "codemirror_mode": {
        "name": "ipython",
        "version": 3
      },
      "file_extension": ".py",
      "mimetype": "text/x-python",
      "name": "python",
      "nbconvert_exporter": "python",
      "pygments_lexer": "ipython3",
      "version": "3.11.5"
    }
  },
  "nbformat": 4,
  "nbformat_minor": 0
}